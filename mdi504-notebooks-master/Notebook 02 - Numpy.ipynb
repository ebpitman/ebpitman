{
 "cells": [
  {
   "cell_type": "markdown",
   "metadata": {},
   "source": [
    "# Python libraries for scientific computing and data analysis\n",
    "---\n",
    "\n",
    "These Python libraries contain many important functions that are \n",
    "useful in data analysis.\n",
    "\n",
    "* `numpy` - Contains functions to operate on vectors, matrices and higher-dimensional collections of numbers succinctly.\n",
    "\n",
    "* `scipy` - Contains functions for scientific programming:\n",
    "    * `scipy.stats` - Statistics\n",
    "    * `scipy.optimize` - Optimization\n",
    "    \n",
    "\n",
    "* `matplotlib` - A plotting library. \n",
    "\n",
    "In this notebook, we'll briefly explore the first of these libraries, `numpy`. `numpy` (pronounced like \"numb pie\") provides data structures and functions to work with multi-dimensional arrays, vectors and matricies. This is not meant to provide an exhaustive exploration of all the features and functionality built into `numpy`. Instead, we will provide a cursory overview of many basic core idea in `numpy`, and delve deeper into details when needed throughout the semester."
   ]
  },
  {
   "cell_type": "markdown",
   "metadata": {},
   "source": [
    "## Vectors (1D arrays) in `numpy`\n",
    "---\n",
    "\n",
    "As motivation, consider the following example:\n",
    "\n",
    "#### Example\n",
    "Recall that for a vector\n",
    "\n",
    "$$ \\mathbf v = (v_1, v_2, ..., v_n) $$\n",
    "\n",
    "it's length (or *Euclidean norm*) is given by\n",
    "\n",
    "$$ \\| \\mathbf v \\| = \\sqrt{\\sum_{i=1}^n v_i^2}, $$\n",
    "\n",
    "It's entirely possible to define a vector and a function to compute that vector's length using ordinary Python lists without an external library such as `numpy`."
   ]
  },
  {
   "cell_type": "code",
   "execution_count": 1,
   "metadata": {},
   "outputs": [
    {
     "name": "stdout",
     "output_type": "stream",
     "text": [
      "6.928203230275509\n"
     ]
    }
   ],
   "source": [
    "# We'll first define a vector just as a Python list of numbers\n",
    "v_list = [3, -1, 0, 5, 2, 3]\n",
    "\n",
    "# Calculate norm using a for-loop.\n",
    "squared_sum = 0\n",
    "for v in v_list:\n",
    "    squared_sum = squared_sum + v**2\n",
    "\n",
    "# Take square root to get the length\n",
    "norm = squared_sum**0.5\n",
    "\n",
    "# Print the result\n",
    "print(norm)"
   ]
  },
  {
   "cell_type": "markdown",
   "metadata": {},
   "source": [
    "We can alternatively use some `numpy` functions to do a lot of this for us. The first thing we'll do is to convert this list into a **`numpy` array**, sometimes called an `ndarray`:"
   ]
  },
  {
   "cell_type": "code",
   "execution_count": 2,
   "metadata": {},
   "outputs": [],
   "source": [
    "# import the numpy library and give it a short alias\n",
    "# you only have to do this once.\n",
    "import numpy as np\n",
    "\n",
    "# Turn v_list into a numpy array\n",
    "v_arr = np.array(v_list)"
   ]
  },
  {
   "cell_type": "markdown",
   "metadata": {},
   "source": [
    "Above, we imported the numpy library into our code, and we also gave in an alias using `as np`. This way, we can refer to any `numpy` function using `np` rather than `numpy`, which shortens the code a little bit. We then used the `numpy` function `np.array` to convert the Python list into a `numpy` array.\n",
    "\n",
    "In many respects, `numpy` arrays look and behave like Python lists. Printing both the list and array out we get the same thing:"
   ]
  },
  {
   "cell_type": "code",
   "execution_count": 3,
   "metadata": {},
   "outputs": [
    {
     "name": "stdout",
     "output_type": "stream",
     "text": [
      "[ 3 -1  0  5  2  3]\n",
      "[3, -1, 0, 5, 2, 3]\n"
     ]
    }
   ],
   "source": [
    "print(v_arr)\n",
    "print(v_list)"
   ]
  },
  {
   "cell_type": "markdown",
   "metadata": {},
   "source": [
    "The `len` function still works, as does indexing and slicing into a numpy array:"
   ]
  },
  {
   "cell_type": "code",
   "execution_count": 4,
   "metadata": {},
   "outputs": [
    {
     "name": "stdout",
     "output_type": "stream",
     "text": [
      "6\n"
     ]
    }
   ],
   "source": [
    "print(len(v_arr))"
   ]
  },
  {
   "cell_type": "code",
   "execution_count": 5,
   "metadata": {},
   "outputs": [
    {
     "name": "stdout",
     "output_type": "stream",
     "text": [
      "0\n"
     ]
    }
   ],
   "source": [
    "print(v_arr[2])"
   ]
  },
  {
   "cell_type": "code",
   "execution_count": 6,
   "metadata": {},
   "outputs": [
    {
     "name": "stdout",
     "output_type": "stream",
     "text": [
      "[ 3 -1  0  5]\n",
      "[5 2]\n"
     ]
    }
   ],
   "source": [
    "print(v_arr[:4])\n",
    "print(v_arr[-3:-1])"
   ]
  },
  {
   "cell_type": "markdown",
   "metadata": {},
   "source": [
    "They are different types, however:"
   ]
  },
  {
   "cell_type": "code",
   "execution_count": 7,
   "metadata": {},
   "outputs": [
    {
     "name": "stdout",
     "output_type": "stream",
     "text": [
      "<class 'numpy.ndarray'>\n",
      "<class 'list'>\n"
     ]
    }
   ],
   "source": [
    "print(type(v_arr))\n",
    "print(type(v_list))"
   ]
  },
  {
   "cell_type": "markdown",
   "metadata": {},
   "source": [
    "The `numpy` array type lets us do more things to `v_arr` than what we could do with a plain list like `v_list`. One thing we can do is apply the same operation to every element in the array without having to write a `for`-loop or a list comprehension."
   ]
  },
  {
   "cell_type": "code",
   "execution_count": 8,
   "metadata": {},
   "outputs": [
    {
     "name": "stdout",
     "output_type": "stream",
     "text": [
      "[ 9  1  0 25  4  9]\n"
     ]
    }
   ],
   "source": [
    "squared_values = v_arr**2\n",
    "print(squared_values)"
   ]
  },
  {
   "cell_type": "markdown",
   "metadata": {},
   "source": [
    "You can't do that with a normal Python list:"
   ]
  },
  {
   "cell_type": "code",
   "execution_count": 9,
   "metadata": {},
   "outputs": [
    {
     "ename": "TypeError",
     "evalue": "unsupported operand type(s) for ** or pow(): 'list' and 'int'",
     "output_type": "error",
     "traceback": [
      "\u001b[0;31m---------------------------------------------------------------------------\u001b[0m",
      "\u001b[0;31mTypeError\u001b[0m                                 Traceback (most recent call last)",
      "\u001b[0;32m<ipython-input-9-b193205a5fc6>\u001b[0m in \u001b[0;36m<module>\u001b[0;34m\u001b[0m\n\u001b[1;32m      1\u001b[0m \u001b[0;31m# You can't \"square\" a normal Python list.\u001b[0m\u001b[0;34m\u001b[0m\u001b[0;34m\u001b[0m\u001b[0;34m\u001b[0m\u001b[0m\n\u001b[0;32m----> 2\u001b[0;31m \u001b[0mv_list\u001b[0m\u001b[0;34m**\u001b[0m\u001b[0;36m2\u001b[0m\u001b[0;34m\u001b[0m\u001b[0;34m\u001b[0m\u001b[0m\n\u001b[0m",
      "\u001b[0;31mTypeError\u001b[0m: unsupported operand type(s) for ** or pow(): 'list' and 'int'"
     ]
    }
   ],
   "source": [
    "# You can't \"square\" a normal Python list.\n",
    "v_list**2"
   ]
  },
  {
   "cell_type": "markdown",
   "metadata": {},
   "source": [
    "To do the same, you'd have to use a `for`-loop or a list comprehension:"
   ]
  },
  {
   "cell_type": "code",
   "execution_count": 10,
   "metadata": {},
   "outputs": [
    {
     "name": "stdout",
     "output_type": "stream",
     "text": [
      "[9, 1, 0, 25, 4, 9]\n"
     ]
    }
   ],
   "source": [
    "squared_list_values = [v**2 for v in v_list]\n",
    "print(squared_list_values)"
   ]
  },
  {
   "cell_type": "markdown",
   "metadata": {},
   "source": [
    "However, the numpy version is faster. To appreciably see this in time-scales we as humans are used to, we'll repeat the same squaring operation one million times on a list with 1000 uniform-random sampled entries. We'll use the `timeit` library to measure the time it takes to do this."
   ]
  },
  {
   "cell_type": "code",
   "execution_count": 11,
   "metadata": {},
   "outputs": [
    {
     "name": "stdout",
     "output_type": "stream",
     "text": [
      "Elapsed time =  1.34 seconds\n"
     ]
    }
   ],
   "source": [
    "import timeit\n",
    "import random\n",
    "\n",
    "v_list = [random.random() for _ in range(1000)]\n",
    "v_arr = np.array(v_list)\n",
    "\n",
    "tic = timeit.default_timer()\n",
    "\n",
    "for _ in range(1000000):\n",
    "    squared_values = v_arr**2\n",
    "    \n",
    "toc = timeit.default_timer()\n",
    "\n",
    "print(\"Elapsed time = %5.2f seconds\" % (toc - tic))"
   ]
  },
  {
   "cell_type": "markdown",
   "metadata": {},
   "source": [
    "Repeating the same timing but with the vanilla Python list:"
   ]
  },
  {
   "cell_type": "code",
   "execution_count": 12,
   "metadata": {},
   "outputs": [
    {
     "name": "stdout",
     "output_type": "stream",
     "text": [
      "Elapsed time = 82.77 seconds\n"
     ]
    }
   ],
   "source": [
    "tic = timeit.default_timer()\n",
    "\n",
    "for _ in range(1000000):\n",
    "    squared_list_values = [v**2 for v in v_list]\n",
    "    \n",
    "toc = timeit.default_timer()\n",
    "print(\"Elapsed time = %5.2f seconds\" % (toc - tic))\n"
   ]
  },
  {
   "cell_type": "markdown",
   "metadata": {},
   "source": [
    "We see that in this case, the `numpy` version is around 64 times as fast as the normal Python version. This is typical of this and other  **vectorized** operations in `numpy` -- they are orders-of-magnitude faster than what you could code up in Python. Therefore, one important rule-of-thumb is **to use `numpy` functions as much as you can.** Consult the `numpy` documentation for details of what operations you can perform on `numpy` arrays. There are a lot of `numpy` functions on `numpy` arrays, and we'll go over some basic operations here and throughout the class.\n",
    "\n",
    "(For those interested, one reason vectorized `numpy` is faster is because `numpy` doesn't actually perform the looping and many operations using Python. Instead, it does these operations in compiled C code, which is much faster than interpreted Python code.)\n",
    "\n",
    "\n",
    "For example, we can do some vector arithmetic as well:"
   ]
  },
  {
   "cell_type": "code",
   "execution_count": 13,
   "metadata": {},
   "outputs": [
    {
     "name": "stdout",
     "output_type": "stream",
     "text": [
      "        v = [ 1  2  3  4  5 10]\n",
      "  w = 3*v = [ 3  6  9 12 15 30]\n",
      "z = w - v = [ 2  4  6  8 10 20]\n"
     ]
    }
   ],
   "source": [
    "v = np.array([1, 2, 3, 4, 5, 10])\n",
    "print(\"        v = \" + str(v))\n",
    "\n",
    "# Scalar multiplication\n",
    "w = 3*v\n",
    "print(\"  w = 3*v = \" + str(w))\n",
    "\n",
    "# Add and substract\n",
    "z = w - v\n",
    "print(\"z = w - v = \" + str(z))"
   ]
  },
  {
   "cell_type": "markdown",
   "metadata": {},
   "source": [
    "Note in particular that unlike Python lists, `3*v` does not repeat `v` 3 times, but multiplies each element of `v` by 3."
   ]
  },
  {
   "cell_type": "markdown",
   "metadata": {},
   "source": [
    "You can even add a constant vector to another vector without having to explicitly build that vector. For example, to substract 42 from every element of `v`, you could calculate:"
   ]
  },
  {
   "cell_type": "code",
   "execution_count": 14,
   "metadata": {},
   "outputs": [
    {
     "name": "stdout",
     "output_type": "stream",
     "text": [
      "[-41 -40 -39 -38 -37 -32]\n"
     ]
    }
   ],
   "source": [
    "y = v - 42\n",
    "print(y)"
   ]
  },
  {
   "cell_type": "markdown",
   "metadata": {},
   "source": [
    "Therefore, even though `v` is a vector, and 42 is a number, `numpy` knows you mean substracting 42 from every element. What happens behinds the scenes is that the number 42 becomes *broadcasted* into a vector of appropriate length in order for the substraction to make sense. [Numpy broadcasting](https://numpy.org/doc/stable/user/basics.broadcasting.html) is a rich and deep subject that we'll touch on occassionally throughout the course."
   ]
  },
  {
   "cell_type": "markdown",
   "metadata": {},
   "source": [
    "We also have access to many `numpy` functions, such as `numpy.sum`, which sums all elements in an array:"
   ]
  },
  {
   "cell_type": "code",
   "execution_count": 15,
   "metadata": {},
   "outputs": [
    {
     "name": "stdout",
     "output_type": "stream",
     "text": [
      "25\n"
     ]
    }
   ],
   "source": [
    "v_sum = np.sum(v)\n",
    "print(v_sum)"
   ]
  },
  {
   "cell_type": "markdown",
   "metadata": {},
   "source": [
    "This, together with the squaring operator and the `numpy.sqrt` function gives us a way of quickly computing norms."
   ]
  },
  {
   "cell_type": "code",
   "execution_count": 16,
   "metadata": {},
   "outputs": [
    {
     "name": "stdout",
     "output_type": "stream",
     "text": [
      "12.449899597988733\n"
     ]
    }
   ],
   "source": [
    "# Calculate norm with squaring and summation\n",
    "norm_squared = np.sum(v**2)\n",
    "norm = np.sqrt(norm_squared)\n",
    "print(norm)"
   ]
  },
  {
   "cell_type": "markdown",
   "metadata": {},
   "source": [
    "In spirit, the code above does the same thing as the for-loop at the beginning of the notes: \n",
    "1. It squares every element of `v`,\n",
    "2. It sums these squared elements of `v`,\n",
    "3. It calculates the square of this sum-of-squares to get the norm.\n",
    "\n",
    "However, this code is only 3 lines and runs much faster than the native Python code.\n",
    "\n",
    "Of course, there's a shorter way to do this, because `numpy` has some built-in Linear algebra functions, most of which are contained in the submodule `numpy.linalg`. In particular, you can calculate the norm of a vector using `np.linalg.norm`."
   ]
  },
  {
   "cell_type": "code",
   "execution_count": 17,
   "metadata": {},
   "outputs": [
    {
     "name": "stdout",
     "output_type": "stream",
     "text": [
      "12.449899597988733\n"
     ]
    }
   ],
   "source": [
    "norm = np.linalg.norm(v)\n",
    "print(norm)"
   ]
  },
  {
   "cell_type": "markdown",
   "metadata": {},
   "source": [
    "#### Exercise\n",
    "---\n",
    "\n",
    "Recall that the Euclidean distance between two vectors $\\mathbf v$ and $\\mathbf w$ is the norm of their difference\n",
    "\n",
    "$$ D(\\mathbf v, \\mathbf w) = \\| v - w \\| $$\n",
    "\n",
    "Given two python lists `v_list` and `w_list`, use `numpy` to calculate the distance between them.\n",
    "\n",
    "How long does it take to run this function 1M times, each time on randomized inputs. You can sample random inputs using the code\n",
    "\n",
    "```\n",
    "v_list = [random.random() for _ in range(1000)]\n",
    "w_list = [random.random() for _ in range(1000)]\n",
    "```\n",
    "\n",
    "---\n"
   ]
  },
  {
   "cell_type": "code",
   "execution_count": 18,
   "metadata": {},
   "outputs": [
    {
     "ename": "SyntaxError",
     "evalue": "unexpected EOF while parsing (<ipython-input-18-26b394fb47ff>, line 2)",
     "output_type": "error",
     "traceback": [
      "\u001b[0;36m  File \u001b[0;32m\"<ipython-input-18-26b394fb47ff>\"\u001b[0;36m, line \u001b[0;32m2\u001b[0m\n\u001b[0;31m    # Function code goes here\u001b[0m\n\u001b[0m                             ^\u001b[0m\n\u001b[0;31mSyntaxError\u001b[0m\u001b[0;31m:\u001b[0m unexpected EOF while parsing\n"
     ]
    }
   ],
   "source": [
    "def distance(v_list, w_list):\n",
    "    # Function code goes here"
   ]
  },
  {
   "cell_type": "markdown",
   "metadata": {},
   "source": [
    "## Matrices (2D arrays) in `numpy`\n",
    "---\n",
    "\n",
    "Matrices in `numpy` are 2D arrays, which are wrappers around basic python list-of-lists"
   ]
  },
  {
   "cell_type": "code",
   "execution_count": 19,
   "metadata": {},
   "outputs": [
    {
     "name": "stdout",
     "output_type": "stream",
     "text": [
      "[[ 1  2  3]\n",
      " [ 4  5  6]\n",
      " [ 7  8  9]\n",
      " [10 11 12]]\n"
     ]
    }
   ],
   "source": [
    "A_list_of_lists = [\n",
    "    [1, 2, 3],\n",
    "    [4, 5, 6],\n",
    "    [7, 8, 9],\n",
    "    [10, 11, 12]\n",
    "]\n",
    "\n",
    "# Turn python list of lists to a numpy 2D array\n",
    "A = np.array(A_list_of_lists)\n",
    "print(A)"
   ]
  },
  {
   "cell_type": "markdown",
   "metadata": {},
   "source": [
    "Like (1D) vectors, `numpy` matrices are also consider ndarrays:"
   ]
  },
  {
   "cell_type": "code",
   "execution_count": 20,
   "metadata": {},
   "outputs": [
    {
     "name": "stdout",
     "output_type": "stream",
     "text": [
      "<class 'numpy.ndarray'>\n"
     ]
    }
   ],
   "source": [
    "print(type(A))"
   ]
  },
  {
   "cell_type": "markdown",
   "metadata": {},
   "source": [
    "All `numpy` arrays have some `built-in` auxillary values that you can access by the `.` notation. For example, all arrays have a `.shape` that tells you the dimensions of the array."
   ]
  },
  {
   "cell_type": "code",
   "execution_count": 21,
   "metadata": {},
   "outputs": [
    {
     "name": "stdout",
     "output_type": "stream",
     "text": [
      "(4, 3)\n"
     ]
    }
   ],
   "source": [
    "print(A.shape)"
   ]
  },
  {
   "cell_type": "markdown",
   "metadata": {},
   "source": [
    "The result of `A.shape` is a `tuple`, object, which is kind of like a list with two entries. For example, you can access the individual dimensions"
   ]
  },
  {
   "cell_type": "code",
   "execution_count": 22,
   "metadata": {},
   "outputs": [
    {
     "name": "stdout",
     "output_type": "stream",
     "text": [
      "number of rows:\n",
      "4\n",
      "number of columns:\n",
      "3\n"
     ]
    }
   ],
   "source": [
    "dims = A.shape\n",
    "\n",
    "print(\"number of rows:\")\n",
    "print(dims[0])\n",
    "\n",
    "print(\"number of columns:\")\n",
    "print(dims[1])"
   ]
  },
  {
   "cell_type": "markdown",
   "metadata": {},
   "source": [
    "You can also access the transpose of a matrix using `.T`"
   ]
  },
  {
   "cell_type": "code",
   "execution_count": 23,
   "metadata": {},
   "outputs": [
    {
     "name": "stdout",
     "output_type": "stream",
     "text": [
      "[[ 1  4  7 10]\n",
      " [ 2  5  8 11]\n",
      " [ 3  6  9 12]]\n"
     ]
    }
   ],
   "source": [
    "print(A.T)"
   ]
  },
  {
   "cell_type": "code",
   "execution_count": 24,
   "metadata": {},
   "outputs": [
    {
     "name": "stdout",
     "output_type": "stream",
     "text": [
      "(3, 4)\n"
     ]
    }
   ],
   "source": [
    "print(A.T.shape)"
   ]
  },
  {
   "cell_type": "markdown",
   "metadata": {},
   "source": [
    "The `len` function applied to matrices will report how many rows the matrix has. It is therefore equivalent to `A.shape[0]`."
   ]
  },
  {
   "cell_type": "code",
   "execution_count": 25,
   "metadata": {},
   "outputs": [
    {
     "name": "stdout",
     "output_type": "stream",
     "text": [
      "4\n",
      "4\n"
     ]
    }
   ],
   "source": [
    "print(len(A))\n",
    "print(A.shape[0])"
   ]
  },
  {
   "cell_type": "markdown",
   "metadata": {},
   "source": [
    "Like vectors, we can perform matrix operations on `numpy` 2D arrays. These operations are performed element-wise:"
   ]
  },
  {
   "cell_type": "code",
   "execution_count": 26,
   "metadata": {},
   "outputs": [
    {
     "name": "stdout",
     "output_type": "stream",
     "text": [
      "[[  1   4   9]\n",
      " [ 16  25  36]\n",
      " [ 49  64  81]\n",
      " [100 121 144]]\n"
     ]
    }
   ],
   "source": [
    "print(A**2)"
   ]
  },
  {
   "cell_type": "code",
   "execution_count": 27,
   "metadata": {},
   "outputs": [
    {
     "name": "stdout",
     "output_type": "stream",
     "text": [
      "[[  0   2   6]\n",
      " [ 12  20  30]\n",
      " [ 42  56  72]\n",
      " [ 90 110 132]]\n"
     ]
    }
   ],
   "source": [
    "print(A**2 - A)"
   ]
  },
  {
   "cell_type": "code",
   "execution_count": 28,
   "metadata": {},
   "outputs": [
    {
     "name": "stdout",
     "output_type": "stream",
     "text": [
      "[[0.1 0.2 0.3]\n",
      " [0.4 0.5 0.6]\n",
      " [0.7 0.8 0.9]\n",
      " [1.  1.1 1.2]]\n"
     ]
    }
   ],
   "source": [
    "print(0.1*A)"
   ]
  },
  {
   "cell_type": "markdown",
   "metadata": {},
   "source": [
    "We can sum all of the elements in A, across all rows and across all columns using the `np.sum` command:"
   ]
  },
  {
   "cell_type": "code",
   "execution_count": 29,
   "metadata": {},
   "outputs": [
    {
     "name": "stdout",
     "output_type": "stream",
     "text": [
      "78\n"
     ]
    }
   ],
   "source": [
    "total_sum = np.sum(A)\n",
    "print(total_sum)"
   ]
  },
  {
   "cell_type": "markdown",
   "metadata": {},
   "source": [
    "While sometimes this is useful, more often we'll be interested in the sum of all rows or columns. To do this, we can use the special `axis` argument to `np.sum` and many other `numpy` functions. Specifying the `axis` argument will specify what dimension over which to perform the summation.\n",
    "\n",
    "For example, if we use `np.sum(A, axis = 0)`, this is saying we wish to sum down columns -- effectively marginalizing over rows (the 0-th dimension of a matrix)."
   ]
  },
  {
   "cell_type": "code",
   "execution_count": 30,
   "metadata": {},
   "outputs": [
    {
     "name": "stdout",
     "output_type": "stream",
     "text": [
      "[22 26 30]\n"
     ]
    }
   ],
   "source": [
    "col_sums = np.sum(A, axis = 0)\n",
    "print(col_sums)"
   ]
  },
  {
   "cell_type": "markdown",
   "metadata": {},
   "source": [
    "Here the $i$-th entry of `col_sums` is the sum of all the entries of the $i$-th **column**."
   ]
  },
  {
   "cell_type": "code",
   "execution_count": 31,
   "metadata": {},
   "outputs": [
    {
     "name": "stdout",
     "output_type": "stream",
     "text": [
      "(3,)\n"
     ]
    }
   ],
   "source": [
    "print(col_sums.shape)"
   ]
  },
  {
   "cell_type": "markdown",
   "metadata": {},
   "source": [
    "In general, for `np.sum` and other similar `numpy` functions that aggregate data, specifying `axis = i` computes the aggregation over the `i`-th dimension, eliminating it from the result. Thus if your matrix is $m \\times n$, then `np.sum(A, axis = 0)` will sum over and eliminate the 0-th dimension (rows), resulting in a vector of length $n$ -- one sum for every column -- while `np.sum(A, axis = 1)` will sum over and eliminate the 1-st dimension (columns, resulting in a vector of length $m$ -- one sum for every row."
   ]
  },
  {
   "cell_type": "markdown",
   "metadata": {},
   "source": [
    "### Matrix-vector operations\n",
    "\n",
    "We can perform matrix vector multiplication\n",
    "\n",
    "$ A \\mathbf x = \\mathbf b$\n",
    "\n",
    "We can use the `@` symbol to do this:"
   ]
  },
  {
   "cell_type": "code",
   "execution_count": 32,
   "metadata": {},
   "outputs": [
    {
     "name": "stdout",
     "output_type": "stream",
     "text": [
      "A = \n",
      "[[ 1  2  3]\n",
      " [ 4  5  6]\n",
      " [ 7  8  9]\n",
      " [10 11 12]]\n",
      "x = \n",
      "[1 2 3]\n",
      "b = \n",
      "[14 32 50 68]\n"
     ]
    }
   ],
   "source": [
    "# Define a vector x = (1, 2, 3)\n",
    "x = np.array([1, 2, 3])\n",
    "\n",
    "# Do the multiplication\n",
    "b = A @ x\n",
    "\n",
    "print(\"A = \")\n",
    "print(A)\n",
    "\n",
    "print(\"x = \")\n",
    "print(x)\n",
    "\n",
    "print(\"b = \")\n",
    "print(b)"
   ]
  },
  {
   "cell_type": "markdown",
   "metadata": {},
   "source": [
    "Notice that unlike in Matlab, here we don't distinguish between row and column vectors, in this case, since `x` is a 1D array, `numpy` tries its best to interpret this correctly."
   ]
  },
  {
   "cell_type": "code",
   "execution_count": 33,
   "metadata": {},
   "outputs": [
    {
     "name": "stdout",
     "output_type": "stream",
     "text": [
      "(3,)\n",
      "(4,)\n"
     ]
    }
   ],
   "source": [
    "print(x.shape)\n",
    "print(b.shape)"
   ]
  },
  {
   "cell_type": "markdown",
   "metadata": {},
   "source": [
    "This flexibility is a bit annoying. For example, `numpy`'s flexibility and broadcasting rules means `numpy` will interpret what `A * x` is, and it is **NOT** matrix-vector multiplication:"
   ]
  },
  {
   "cell_type": "code",
   "execution_count": 34,
   "metadata": {},
   "outputs": [
    {
     "name": "stdout",
     "output_type": "stream",
     "text": [
      "[[ 1  4  9]\n",
      " [ 4 10 18]\n",
      " [ 7 16 27]\n",
      " [10 22 36]]\n"
     ]
    }
   ],
   "source": [
    "print(A * x)"
   ]
  },
  {
   "cell_type": "markdown",
   "metadata": {},
   "source": [
    "This and other \"broadcasting magic\" has lead to real-life bugs in the past. If you wish to be sure, when doing linear algebra, you could use 2D arrays to distinguish between row and column vectors. The easiest way to do this is with the special `np.newaxis` index, which adds a trivial dimension to any vector. For example, by doing the following, we turn convert `x` into `xx`, a column vector."
   ]
  },
  {
   "cell_type": "code",
   "execution_count": 35,
   "metadata": {},
   "outputs": [
    {
     "name": "stdout",
     "output_type": "stream",
     "text": [
      "(3, 1)\n"
     ]
    }
   ],
   "source": [
    "xx = x[:, np.newaxis]\n",
    "print(xx.shape)"
   ]
  },
  {
   "cell_type": "markdown",
   "metadata": {},
   "source": [
    "That is, `xx` has 3 rows and 1 column. We can do the appropriate matrix multiplication to A, to get the result, which we save as `bb`."
   ]
  },
  {
   "cell_type": "code",
   "execution_count": 36,
   "metadata": {},
   "outputs": [
    {
     "name": "stdout",
     "output_type": "stream",
     "text": [
      "[[14]\n",
      " [32]\n",
      " [50]\n",
      " [68]]\n",
      "(4, 1)\n"
     ]
    }
   ],
   "source": [
    "bb = A@xx\n",
    "\n",
    "print(bb)\n",
    "print(bb.shape)"
   ]
  },
  {
   "cell_type": "markdown",
   "metadata": {},
   "source": [
    "We see that it is properly a $4\\times 1$ column vector, which is what you would expect when multiplying a $4 \\times 3$ matrix with a $3 \\times 1$ column vector. This also prevents the misinterpretation above:"
   ]
  },
  {
   "cell_type": "code",
   "execution_count": 37,
   "metadata": {},
   "outputs": [
    {
     "ename": "ValueError",
     "evalue": "operands could not be broadcast together with shapes (4,3) (3,1) ",
     "output_type": "error",
     "traceback": [
      "\u001b[0;31m---------------------------------------------------------------------------\u001b[0m",
      "\u001b[0;31mValueError\u001b[0m                                Traceback (most recent call last)",
      "\u001b[0;32m<ipython-input-37-6ad01752e5da>\u001b[0m in \u001b[0;36m<module>\u001b[0;34m\u001b[0m\n\u001b[0;32m----> 1\u001b[0;31m \u001b[0mprint\u001b[0m\u001b[0;34m(\u001b[0m\u001b[0mA\u001b[0m \u001b[0;34m*\u001b[0m \u001b[0mxx\u001b[0m\u001b[0;34m)\u001b[0m\u001b[0;34m\u001b[0m\u001b[0;34m\u001b[0m\u001b[0m\n\u001b[0m",
      "\u001b[0;31mValueError\u001b[0m: operands could not be broadcast together with shapes (4,3) (3,1) "
     ]
    }
   ],
   "source": [
    "print(A * xx)"
   ]
  },
  {
   "cell_type": "markdown",
   "metadata": {},
   "source": [
    "Here, due to the extra dimension, `numpy` cannot interpret how to \"correctly\" broadcast `xx`, so it fails.\n",
    "\n",
    "This is not to say that you *should* do things like this, but instead to be absolutely careful about your operations. Always test and debug your code to make sure you are getting the outputs you are expecting, such as the shape of arrays, their dimenions, etc. It is also something to look out for if you are trying to find a bug in your code -- always check your shapes!"
   ]
  },
  {
   "cell_type": "markdown",
   "metadata": {},
   "source": [
    "#### Excercise\n",
    "---\n",
    "\n",
    "The `np.linalg.lstsq(A, b)` function solves the linear equation \n",
    "\n",
    "$$ A \\mathbf x = \\mathbf b, $$\n",
    "\n",
    "for the vector $\\mathbf x$ to the best of its abilities (we'll talk about this more in class).\n",
    "\n",
    "Solve the above system where\n",
    "\n",
    "$$ A = \\begin{pmatrix} 2 & 4 & 3 \\\\ 1 & 3 & -2 \\\\ -4 & 1 & 3 \\end{pmatrix}, \\quad \\mathbf b = \\begin{pmatrix} 16 \\\\ 8 \\\\ -8.5 \\end{pmatrix}$$\n",
    "\n",
    "For a proposed solution $\\mathbf x$ to the above equation, the **residual** is the vector\n",
    "\n",
    "$$ \\mathbf r = A \\mathbf x - \\mathbf b,$$\n",
    "\n",
    "If $\\mathbf x$ perfectly solved the system, the residual would be $\\mathbf 0$. Otherwise, its norm $\\|\\mathbf r\\|$ can be used as a measure of error.\n",
    "\n",
    "* Calculate the residual for the system above.\n",
    "\n",
    "* Using the residual and some `numpy` operations and functions, calculate the **mean squared error**:\n",
    "\n",
    "$$ \\text{MSE} = \\frac{1}{n} \\sum_{i=1}^n ((A\\mathbf x)_i - b_i)^2, $$\n",
    "\n",
    "where $(A\\mathbf x)_i$ is the $i$-th component of the vector that is the result of the multiplication $A\\mathbf x$, and $b_i$ is the $i$-th component of the vector $\\mathbf x$. Note that this is literally the mean (or average) of the squares of the error.\n",
    "\n",
    "\n",
    "---\n"
   ]
  },
  {
   "cell_type": "markdown",
   "metadata": {},
   "source": [
    "## Accessing array elements\n",
    "---"
   ]
  },
  {
   "cell_type": "markdown",
   "metadata": {},
   "source": [
    "Accessing elements and sub-arrays can be done by indexing rows and columns, indexing rows and columns separately . For example, to get the element at row 0 and column 2, you would use `A[0,2]`."
   ]
  },
  {
   "cell_type": "code",
   "execution_count": 39,
   "metadata": {},
   "outputs": [
    {
     "name": "stdout",
     "output_type": "stream",
     "text": [
      "[[ 1  2  3]\n",
      " [ 4  5  6]\n",
      " [ 7  8  9]\n",
      " [10 11 12]]\n",
      "3\n"
     ]
    }
   ],
   "source": [
    "# Print the whole matrix for reference\n",
    "print(A)\n",
    "\n",
    "# Print the element at (0, 2)\n",
    "print(A[0,2])"
   ]
  },
  {
   "cell_type": "markdown",
   "metadata": {},
   "source": [
    "The standard rules apply here: you can use positive and negative integers, or slices, and all the indexing is zero-based. Apart from being zero-based, this is very similar to how things are done in Matlab. For example, to access the entire 3rd row, we use an index `3` in the first \"slot\" to get the 3rd row, and in the second slot, we specify a slice 0:3 to access the 0-th, 1st, and 2nd column (i.e. all the columns)"
   ]
  },
  {
   "cell_type": "code",
   "execution_count": 40,
   "metadata": {},
   "outputs": [
    {
     "name": "stdout",
     "output_type": "stream",
     "text": [
      "[10 11 12]\n"
     ]
    }
   ],
   "source": [
    "print(A[3,0:3])"
   ]
  },
  {
   "cell_type": "markdown",
   "metadata": {},
   "source": [
    "Again, because the end-points of the slice are 0 and the length of the entire row, we don't really need to specify them, as they'll be filled in automatically."
   ]
  },
  {
   "cell_type": "code",
   "execution_count": 41,
   "metadata": {},
   "outputs": [
    {
     "name": "stdout",
     "output_type": "stream",
     "text": [
      "[10 11 12]\n"
     ]
    }
   ],
   "source": [
    "print(A[3,0:])"
   ]
  },
  {
   "cell_type": "code",
   "execution_count": 42,
   "metadata": {},
   "outputs": [
    {
     "name": "stdout",
     "output_type": "stream",
     "text": [
      "[10 11 12]\n"
     ]
    }
   ],
   "source": [
    "print(A[3,:3])"
   ]
  },
  {
   "cell_type": "code",
   "execution_count": 43,
   "metadata": {},
   "outputs": [
    {
     "name": "stdout",
     "output_type": "stream",
     "text": [
      "[10 11 12]\n"
     ]
    }
   ],
   "source": [
    "print(A[3,:])"
   ]
  },
  {
   "cell_type": "markdown",
   "metadata": {},
   "source": [
    "This last example is the preferred method for accessing an entire row of a matrix, because it's shorter.\n",
    "\n",
    "Instead of accessing the entire row, you can specify what columns you wish to access, such as only the last two columns of the 3rd row."
   ]
  },
  {
   "cell_type": "code",
   "execution_count": 44,
   "metadata": {},
   "outputs": [
    {
     "name": "stdout",
     "output_type": "stream",
     "text": [
      "[11 12]\n"
     ]
    }
   ],
   "source": [
    "print(A[3,1:])"
   ]
  },
  {
   "cell_type": "markdown",
   "metadata": {},
   "source": [
    "Access everything in the row but the last column (i.e. the first two columns)"
   ]
  },
  {
   "cell_type": "code",
   "execution_count": 45,
   "metadata": {},
   "outputs": [
    {
     "name": "stdout",
     "output_type": "stream",
     "text": [
      "[10 11]\n"
     ]
    }
   ],
   "source": [
    "print(A[3,0:-1])"
   ]
  },
  {
   "cell_type": "markdown",
   "metadata": {},
   "source": [
    "Of course, you can do the same with the rows as well, and even combine slicing rows and columns. For example, get the first two rows and columns:"
   ]
  },
  {
   "cell_type": "code",
   "execution_count": 46,
   "metadata": {},
   "outputs": [
    {
     "name": "stdout",
     "output_type": "stream",
     "text": [
      "[[1 2]\n",
      " [4 5]]\n"
     ]
    }
   ],
   "source": [
    "print(A[:2, :2])"
   ]
  },
  {
   "cell_type": "markdown",
   "metadata": {},
   "source": [
    "This is a $2\\times 2$ sub matrix of the matrix $A$."
   ]
  },
  {
   "cell_type": "markdown",
   "metadata": {},
   "source": [
    "### Indexing by list\n",
    "\n",
    "We've seen examples of accessing elements from a numpy array using numbers and slices. Another way to access entries and sub-arrays is with lists (or list-like objects) of rows and columns.\n",
    "\n",
    "First, we'll define a larger matrix to better illustrate our points below. The entries in the matrix `B` below indicate their row and column positions, with the element at position $(i, j)$ has $i$ in the 10s place and $j$ in the 1s place. "
   ]
  },
  {
   "cell_type": "code",
   "execution_count": 47,
   "metadata": {},
   "outputs": [
    {
     "name": "stdout",
     "output_type": "stream",
     "text": [
      "[[ 0  1  2  3  4]\n",
      " [10 11 12 13 14]\n",
      " [20 21 22 23 24]\n",
      " [30 31 32 33 34]\n",
      " [40 41 42 43 44]\n",
      " [50 51 52 53 54]\n",
      " [60 61 62 63 64]\n",
      " [70 71 72 73 74]\n",
      " [80 81 82 83 84]\n",
      " [90 91 92 93 94]]\n",
      "B has shape = (10, 5)\n"
     ]
    }
   ],
   "source": [
    "B = np.array([[10*i + j for j in range(5)] for i in range(10)])\n",
    "print(B)\n",
    "print(\"B has shape = \" + str(B.shape))"
   ]
  },
  {
   "cell_type": "markdown",
   "metadata": {},
   "source": [
    "We can access the even rows by specifying a list of indices."
   ]
  },
  {
   "cell_type": "code",
   "execution_count": 48,
   "metadata": {},
   "outputs": [
    {
     "name": "stdout",
     "output_type": "stream",
     "text": [
      "[[ 0  1  2  3  4]\n",
      " [20 21 22 23 24]\n",
      " [30 31 32 33 34]\n",
      " [40 41 42 43 44]\n",
      " [80 81 82 83 84]]\n"
     ]
    }
   ],
   "source": [
    "I = [0, 2, 3, 4, 8]\n",
    "\n",
    "# Access only the rows indexed by elements of I (and all the columns)\n",
    "print(B[I, :])"
   ]
  },
  {
   "cell_type": "markdown",
   "metadata": {},
   "source": [
    "We can actually use any list-like object. For example, we can use the `range` function, to specify the same indices."
   ]
  },
  {
   "cell_type": "code",
   "execution_count": 49,
   "metadata": {},
   "outputs": [
    {
     "name": "stdout",
     "output_type": "stream",
     "text": [
      "[[ 0  1  2  3  4]\n",
      " [20 21 22 23 24]\n",
      " [40 41 42 43 44]\n",
      " [60 61 62 63 64]\n",
      " [80 81 82 83 84]]\n"
     ]
    }
   ],
   "source": [
    "I = range(0, 10, 2)\n",
    "print(B[I, :])"
   ]
  },
  {
   "cell_type": "markdown",
   "metadata": {},
   "source": [
    "Of course, this applies to rows and columns the same way. To get the 3rd and 4th column:"
   ]
  },
  {
   "cell_type": "code",
   "execution_count": 50,
   "metadata": {},
   "outputs": [
    {
     "name": "stdout",
     "output_type": "stream",
     "text": [
      "[[ 3  4]\n",
      " [13 14]\n",
      " [23 24]\n",
      " [33 34]\n",
      " [43 44]\n",
      " [53 54]\n",
      " [63 64]\n",
      " [73 74]\n",
      " [83 84]\n",
      " [93 94]]\n"
     ]
    }
   ],
   "source": [
    "J = [3, 4]\n",
    "\n",
    "print(B[:, J])"
   ]
  },
  {
   "cell_type": "markdown",
   "metadata": {},
   "source": [
    "Some care has to be taken when trying to do this to both rows and columns. For example, if you wanted to access the the even rows and the 3rd and 4th column, you can't actually do the obvious:"
   ]
  },
  {
   "cell_type": "code",
   "execution_count": 51,
   "metadata": {},
   "outputs": [
    {
     "ename": "IndexError",
     "evalue": "shape mismatch: indexing arrays could not be broadcast together with shapes (5,) (2,) ",
     "output_type": "error",
     "traceback": [
      "\u001b[0;31m---------------------------------------------------------------------------\u001b[0m",
      "\u001b[0;31mIndexError\u001b[0m                                Traceback (most recent call last)",
      "\u001b[0;32m<ipython-input-51-813581e02ef0>\u001b[0m in \u001b[0;36m<module>\u001b[0;34m\u001b[0m\n\u001b[1;32m      1\u001b[0m \u001b[0;31m# This will result in an error\u001b[0m\u001b[0;34m\u001b[0m\u001b[0;34m\u001b[0m\u001b[0;34m\u001b[0m\u001b[0m\n\u001b[0;32m----> 2\u001b[0;31m \u001b[0mprint\u001b[0m\u001b[0;34m(\u001b[0m\u001b[0mB\u001b[0m\u001b[0;34m[\u001b[0m\u001b[0mI\u001b[0m\u001b[0;34m,\u001b[0m \u001b[0mJ\u001b[0m\u001b[0;34m]\u001b[0m\u001b[0;34m)\u001b[0m\u001b[0;34m\u001b[0m\u001b[0;34m\u001b[0m\u001b[0m\n\u001b[0m",
      "\u001b[0;31mIndexError\u001b[0m: shape mismatch: indexing arrays could not be broadcast together with shapes (5,) (2,) "
     ]
    }
   ],
   "source": [
    "# This will result in an error\n",
    "print(B[I, J])"
   ]
  },
  {
   "cell_type": "markdown",
   "metadata": {},
   "source": [
    "The above error has something to do with the shape of the inputs and a `numpy` concept called broadcasting. We won't go over this here for now, but the solution is to change the shape of the input arrays, converting the index set from a \"row vector\" to a \"column vector\" by making it a list-of-lists, namely a list of 5 lists, each having one element each, instead of one list with 5 elements."
   ]
  },
  {
   "cell_type": "code",
   "execution_count": 54,
   "metadata": {},
   "outputs": [
    {
     "name": "stdout",
     "output_type": "stream",
     "text": [
      "[[ 3  4]\n",
      " [23 24]\n",
      " [43 44]\n",
      " [63 64]\n",
      " [83 84]]\n"
     ]
    }
   ],
   "source": [
    "I = [[0], [2], [4], [6], [8]]\n",
    "print(B[I, J])"
   ]
  },
  {
   "cell_type": "markdown",
   "metadata": {},
   "source": [
    "You don't have to access the rows/columns in order. If you specify your indices out of order, the resulting sub-matrix will have the rows/columns in the order you specify."
   ]
  },
  {
   "cell_type": "code",
   "execution_count": 55,
   "metadata": {},
   "outputs": [
    {
     "name": "stdout",
     "output_type": "stream",
     "text": [
      "[[80 81 82 83 84]\n",
      " [40 41 42 43 44]\n",
      " [ 0  1  2  3  4]]\n"
     ]
    }
   ],
   "source": [
    "I = [ 8, 4, 0]\n",
    "\n",
    "print(B[I, :])"
   ]
  },
  {
   "cell_type": "markdown",
   "metadata": {},
   "source": [
    "This can be used in conjunction with `np.argsort`, which returns a list of indices in sorted order, to sort a matrix according to a specific row.\n",
    "\n",
    "For example consider a different matrix below (which we generate using another `numpy` function called `np.random.normal` -- which is not important enough to discuss right now)."
   ]
  },
  {
   "cell_type": "code",
   "execution_count": 56,
   "metadata": {},
   "outputs": [
    {
     "name": "stdout",
     "output_type": "stream",
     "text": [
      "[[-1.37990349  0.09113806 -0.20820994 -0.0562635  -0.88048408]\n",
      " [-0.45872436  0.66415358 -0.28837473  0.86557048 -0.25030236]\n",
      " [-0.77213894 -0.88294236  0.41637665 -2.4109548  -1.30969699]\n",
      " [ 0.60101044  0.03028043  0.37155057  1.09097454 -0.49472912]\n",
      " [ 1.01620945  1.22154101  1.52055633 -2.27601417 -0.76389648]\n",
      " [-0.86231131  0.08643817  0.45670279  0.98067731  0.38239698]\n",
      " [ 0.92891897 -0.18753757  0.13088854 -1.11092221 -0.55091423]\n",
      " [-0.13424451 -0.05244601  0.75520311 -0.57375356 -0.98560386]\n",
      " [ 0.94480325 -0.29183058  0.06929703  0.56794295 -0.03774539]\n",
      " [ 0.87771362  2.56594012 -0.98909164 -0.16883342  0.84235178]]\n"
     ]
    }
   ],
   "source": [
    "C = np.random.normal(0, 1, [10, 5])\n",
    "print(C)"
   ]
  },
  {
   "cell_type": "markdown",
   "metadata": {},
   "source": [
    "To sort by the 3rd column, we can use `np.argsort` on the 3 column:"
   ]
  },
  {
   "cell_type": "code",
   "execution_count": 57,
   "metadata": {},
   "outputs": [
    {
     "name": "stdout",
     "output_type": "stream",
     "text": [
      "[2 4 6 7 9 0 8 1 5 3]\n"
     ]
    }
   ],
   "source": [
    "I = np.argsort(C[:, 3])\n",
    "print(I)"
   ]
  },
  {
   "cell_type": "markdown",
   "metadata": {},
   "source": [
    "This says that, in the 3rd column, the 0-th entry is the smallest, followed by the 7th, etc. Therefore, we can use this to index into the `C` matrix to extract rows in this order:"
   ]
  },
  {
   "cell_type": "code",
   "execution_count": 58,
   "metadata": {},
   "outputs": [
    {
     "name": "stdout",
     "output_type": "stream",
     "text": [
      "[[-0.77213894 -0.88294236  0.41637665 -2.4109548  -1.30969699]\n",
      " [ 1.01620945  1.22154101  1.52055633 -2.27601417 -0.76389648]\n",
      " [ 0.92891897 -0.18753757  0.13088854 -1.11092221 -0.55091423]\n",
      " [-0.13424451 -0.05244601  0.75520311 -0.57375356 -0.98560386]\n",
      " [ 0.87771362  2.56594012 -0.98909164 -0.16883342  0.84235178]\n",
      " [-1.37990349  0.09113806 -0.20820994 -0.0562635  -0.88048408]\n",
      " [ 0.94480325 -0.29183058  0.06929703  0.56794295 -0.03774539]\n",
      " [-0.45872436  0.66415358 -0.28837473  0.86557048 -0.25030236]\n",
      " [-0.86231131  0.08643817  0.45670279  0.98067731  0.38239698]\n",
      " [ 0.60101044  0.03028043  0.37155057  1.09097454 -0.49472912]]\n"
     ]
    }
   ],
   "source": [
    "print(C[I, :])"
   ]
  },
  {
   "cell_type": "markdown",
   "metadata": {},
   "source": [
    "Here we see the rows are permutted in increase order by the 3rd column."
   ]
  },
  {
   "cell_type": "markdown",
   "metadata": {},
   "source": [
    "#### Exercise\n",
    "---\n",
    "\n",
    "In the above exaple, `I` is a list. How would you use this fact, to change this example to only include the top 4 rows (with respect to the 3rd column) with one line of code?\n",
    "\n",
    "---\n"
   ]
  },
  {
   "cell_type": "markdown",
   "metadata": {},
   "source": [
    "### Boolean indexing\n",
    "\n",
    "Another **very important** method of accessing `numpy` arrays is by Boolean indexing. With Boolean indexing, instead of explicitly listing the indices of columns or rows you wish to keep, you specify a list of `True` or `False` values to flag which rows you wish keep, with one entry for every column or row. \n",
    "\n",
    "For example, we'll specify a Boolean list (one that only has `True` or `False` values) of length 10 -- the same number of rows in `B`, and indicate which rows we wish to keep, and which we don't."
   ]
  },
  {
   "cell_type": "code",
   "execution_count": 59,
   "metadata": {},
   "outputs": [
    {
     "name": "stdout",
     "output_type": "stream",
     "text": [
      "[[ 0  1  2  3  4]\n",
      " [10 11 12 13 14]\n",
      " [60 61 62 63 64]\n",
      " [80 81 82 83 84]]\n"
     ]
    }
   ],
   "source": [
    "I = [True, True, False, False, False, False, True, False, True, False]\n",
    "print(B[I, :])"
   ]
  },
  {
   "cell_type": "markdown",
   "metadata": {},
   "source": [
    "Because the list `I` above has a `True` in positions 0, 1, 6, and 8, we  access those rows to get the result above.\n",
    "\n",
    "On its own, using such Boolean lists seem like more work than just individually specifying which rows you wish to keep. However, the power of Boolean indexing comes with the ability to quickly build such lists through vectorized  conditionals. For example, we can ask which rows have a 3rd column larger than 40, and extract only those rows:"
   ]
  },
  {
   "cell_type": "code",
   "execution_count": 60,
   "metadata": {},
   "outputs": [
    {
     "name": "stdout",
     "output_type": "stream",
     "text": [
      "[False False False False  True  True  True  True  True  True]\n"
     ]
    }
   ],
   "source": [
    "I = B[:, 3] > 40\n",
    "print(I)"
   ]
  },
  {
   "cell_type": "markdown",
   "metadata": {},
   "source": [
    "Here we see that we can quickly build up such boolean lists by checking conditions on the matrix rows or columns. From this, we can simply index the rows indicated in `I`:"
   ]
  },
  {
   "cell_type": "code",
   "execution_count": 61,
   "metadata": {},
   "outputs": [
    {
     "name": "stdout",
     "output_type": "stream",
     "text": [
      "[[40 41 42 43 44]\n",
      " [50 51 52 53 54]\n",
      " [60 61 62 63 64]\n",
      " [70 71 72 73 74]\n",
      " [80 81 82 83 84]\n",
      " [90 91 92 93 94]]\n"
     ]
    }
   ],
   "source": [
    "print(B[I, :])"
   ]
  },
  {
   "cell_type": "markdown",
   "metadata": {},
   "source": [
    "This is incredibly useful for filtering data based on some conditions. The conditions can be fairly complex. \n",
    "\n",
    "For example, let's pretend that the matrix `C` above is a data set, in which every row is a data point, and the columns correspond to different dimensions of the data. Specifically, we'll pretend that this data was obtained by making 3 types of measurements at a material sample at different points $(x, y)$. Each row of `C` holds these 3 measurements at one point, which is also saved in `C`. We'll assume that the 0-th and 1-st column of `C` store these $(x, y)` coordinates (measured in nanometers, nms).\n",
    "\n",
    "Suppose we suspect that there is something different going on at the core of the sample -- points within a radius of 0.8 nm form the origin. We would want to explore the data at such points and compare with the other data points to see if something different is actually happening and being captured in the measurements. \n",
    "\n",
    "To do this, we will condition on the distance of a data point from the origin, then extract only those inside a radius of 0.8. The distance is calculated as"
   ]
  },
  {
   "cell_type": "code",
   "execution_count": 62,
   "metadata": {},
   "outputs": [
    {
     "name": "stdout",
     "output_type": "stream",
     "text": [
      "[1.38290989 0.80717285 1.17293893 0.60177275 1.5889758  0.86663277\n",
      " 0.9476607  0.14412554 0.98884694 2.71190521]\n"
     ]
    }
   ],
   "source": [
    "r = np.linalg.norm(C[:, [0,1]], axis = 1)\n",
    "print(r)"
   ]
  },
  {
   "cell_type": "markdown",
   "metadata": {},
   "source": [
    "**Study the above line carefully. Make sure you understand all the parts to it.** The end result is that `r` holds the distance from the origin for every point in the data set representedby `C`. It has 10 elements, because there are 10 rows in `C`. Now we form a condition to extract those rows whose corresponding distance is less than 0.8\n"
   ]
  },
  {
   "cell_type": "code",
   "execution_count": 63,
   "metadata": {},
   "outputs": [
    {
     "name": "stdout",
     "output_type": "stream",
     "text": [
      "[[ 0.60101044  0.03028043  0.37155057  1.09097454 -0.49472912]\n",
      " [-0.13424451 -0.05244601  0.75520311 -0.57375356 -0.98560386]]\n"
     ]
    }
   ],
   "source": [
    "I_core = r < 0.8\n",
    "C_core = C[I_core, :]\n",
    "\n",
    "print(C_core)"
   ]
  },
  {
   "cell_type": "markdown",
   "metadata": {},
   "source": [
    "Here `C_core` reprents the subset of data corresponding to measurements made in the core region. This was done using the Boolean index list:"
   ]
  },
  {
   "cell_type": "code",
   "execution_count": 64,
   "metadata": {},
   "outputs": [
    {
     "name": "stdout",
     "output_type": "stream",
     "text": [
      "[False False False  True False False False  True False False]\n"
     ]
    }
   ],
   "source": [
    "print(I_core)"
   ]
  },
  {
   "cell_type": "markdown",
   "metadata": {},
   "source": [
    "By flipping `True` and `False` values, we can get the complement of this data -- namely the data corresponding to measurements made outside of the core region. To do this, we can use the **bitwise not** operator `~`"
   ]
  },
  {
   "cell_type": "code",
   "execution_count": 65,
   "metadata": {},
   "outputs": [
    {
     "name": "stdout",
     "output_type": "stream",
     "text": [
      "[ True  True  True False  True  True  True False  True  True]\n"
     ]
    }
   ],
   "source": [
    "I_edge = ~I_core\n",
    "print(I_edge)"
   ]
  },
  {
   "cell_type": "markdown",
   "metadata": {},
   "source": [
    "Using this, we can extract the compliment of the core data"
   ]
  },
  {
   "cell_type": "code",
   "execution_count": 66,
   "metadata": {},
   "outputs": [],
   "source": [
    "C_edge = C[I_edge, :]"
   ]
  },
  {
   "cell_type": "markdown",
   "metadata": {},
   "source": [
    "Other bitwise logical operations can be used to combine conditionals including the bitwise AND operator: `&`, and the bitwise OR operator `|`.\n",
    "\n",
    "**It is important to master and understand Boolean indexing**, because of its ability to quickly and succinctly filter data sets. Many students who do not end up spending a long amount of time writing and debugging difficult code to do this filtering, when one or two lines of Boolean indexing would have worked."
   ]
  },
  {
   "cell_type": "markdown",
   "metadata": {},
   "source": [
    "#### Exercise\n",
    "---\n",
    "\n",
    "The matrix called `data` below represents 100 measurements of the strength of a material grown at a particular temperature, pressure and growth time. The matrix has 100 rows (one for every measurement) and 4 columns, where the 0th, 1st, and 2nd column specify the grownth coditions, and the last (3rd) column specifies the measured strength of the materials.\n",
    "\n",
    "You want to identify those cases with anomously high strength. Namely, you want to figure out which data points have a strength whose value is at least 3 orders of magnitude larger than the mean. Namely, such a data point would have a strength $s$ such that\n",
    "\n",
    "$$s > \\mu + 3 \\sigma,$$\n",
    "\n",
    "where $\\mu$ is the mean of all the measured strengths and $\\sigma$ is the standard deviation of the measured strengths. For any vector of numbers, `v`, you can calculate its mean and standard deviation using the `numpy` functions:\n",
    "\n",
    "```\n",
    "mu = np.mean(v)\n",
    "sig = np.std(v)\n",
    "```\n",
    "\n",
    "How do you find extract the anomolous data points for further analysis?"
   ]
  },
  {
   "cell_type": "code",
   "execution_count": 67,
   "metadata": {},
   "outputs": [
    {
     "name": "stdout",
     "output_type": "stream",
     "text": [
      "(100, 4)\n"
     ]
    }
   ],
   "source": [
    "# Artifical data\n",
    "data = np.random.normal(0, 1, [100, 4])\n",
    "print(data.shape)\n",
    "\n",
    "#\n",
    "#\n",
    "# Your code goes here\n",
    "#\n",
    "#"
   ]
  },
  {
   "cell_type": "markdown",
   "metadata": {},
   "source": [
    "## Numpy array creation and initialization\n",
    "---"
   ]
  },
  {
   "cell_type": "markdown",
   "metadata": {},
   "source": [
    "There are many ways to create, initialize or load data into a numpy array. The first way is to take an existing list of numbers, or list-of-lists of numbers (or even more), and use the `np.array` function to convert it into an array.\n",
    "\n",
    "Another way is to specify a vector, matrix or higher-dimensional array of all 1s, using the `np.ones` function."
   ]
  },
  {
   "cell_type": "code",
   "execution_count": 68,
   "metadata": {},
   "outputs": [
    {
     "name": "stdout",
     "output_type": "stream",
     "text": [
      "[1. 1. 1.]\n"
     ]
    }
   ],
   "source": [
    "# A vector with three 1s.\n",
    "v = np.ones(3)\n",
    "print(v)"
   ]
  },
  {
   "cell_type": "code",
   "execution_count": 69,
   "metadata": {},
   "outputs": [
    {
     "name": "stdout",
     "output_type": "stream",
     "text": [
      "[[1. 1. 1. 1.]\n",
      " [1. 1. 1. 1.]\n",
      " [1. 1. 1. 1.]\n",
      " [1. 1. 1. 1.]\n",
      " [1. 1. 1. 1.]]\n"
     ]
    }
   ],
   "source": [
    "# A 5x4 matrix of 1s\n",
    "A = np.ones([5,4])\n",
    "print(A)"
   ]
  },
  {
   "cell_type": "code",
   "execution_count": 70,
   "metadata": {},
   "outputs": [
    {
     "name": "stdout",
     "output_type": "stream",
     "text": [
      "(3, 4, 5)\n",
      "[[[1. 1. 1. 1. 1.]\n",
      "  [1. 1. 1. 1. 1.]\n",
      "  [1. 1. 1. 1. 1.]\n",
      "  [1. 1. 1. 1. 1.]]\n",
      "\n",
      " [[1. 1. 1. 1. 1.]\n",
      "  [1. 1. 1. 1. 1.]\n",
      "  [1. 1. 1. 1. 1.]\n",
      "  [1. 1. 1. 1. 1.]]\n",
      "\n",
      " [[1. 1. 1. 1. 1.]\n",
      "  [1. 1. 1. 1. 1.]\n",
      "  [1. 1. 1. 1. 1.]\n",
      "  [1. 1. 1. 1. 1.]]]\n"
     ]
    }
   ],
   "source": [
    "# A higher dimensional array of all 1s\n",
    "# It's like having three 4x5 matrices, all with all 1s.\n",
    "Z = np.ones([3, 4, 5])\n",
    "print(Z.shape)\n",
    "print(Z)"
   ]
  },
  {
   "cell_type": "markdown",
   "metadata": {},
   "source": [
    "If you want a different number other than 1, you can simply multiply the result by that number, or use the `numpy` function `np.fill`."
   ]
  },
  {
   "cell_type": "code",
   "execution_count": 71,
   "metadata": {},
   "outputs": [
    {
     "name": "stdout",
     "output_type": "stream",
     "text": [
      "[[3. 3. 3. 3. 3.]\n",
      " [3. 3. 3. 3. 3.]]\n"
     ]
    }
   ],
   "source": [
    "B = 3*np.ones([2,5])\n",
    "print(B)"
   ]
  },
  {
   "cell_type": "code",
   "execution_count": 72,
   "metadata": {},
   "outputs": [
    {
     "name": "stdout",
     "output_type": "stream",
     "text": [
      "[[3 3 3 3 3]\n",
      " [3 3 3 3 3]]\n"
     ]
    }
   ],
   "source": [
    "B = np.full([2,5], 3)\n",
    "print(B)"
   ]
  },
  {
   "cell_type": "code",
   "execution_count": 73,
   "metadata": {},
   "outputs": [
    {
     "name": "stdout",
     "output_type": "stream",
     "text": [
      "[[0. 0. 0.]\n",
      " [0. 0. 0.]\n",
      " [0. 0. 0.]]\n"
     ]
    }
   ],
   "source": [
    "Z = 0*np.ones([3, 3])\n",
    "print(Z)"
   ]
  },
  {
   "cell_type": "markdown",
   "metadata": {},
   "source": [
    "A better way of getting a matrix of all zeros is to use the `np.zeros` function:"
   ]
  },
  {
   "cell_type": "code",
   "execution_count": 74,
   "metadata": {},
   "outputs": [
    {
     "name": "stdout",
     "output_type": "stream",
     "text": [
      "[[0. 0. 0.]\n",
      " [0. 0. 0.]\n",
      " [0. 0. 0.]]\n"
     ]
    }
   ],
   "source": [
    "Z = np.zeros([3,3])\n",
    "print(Z)"
   ]
  },
  {
   "cell_type": "markdown",
   "metadata": {},
   "source": [
    "This is often done to **pre-allocate** the space in memory for the matrix `Z`, if you have some complex code to compute its elements."
   ]
  },
  {
   "cell_type": "markdown",
   "metadata": {},
   "source": [
    "### Concatenating arrays\n",
    "\n",
    "You can **append** compatiably shaped arrays together. For example, suppose you have a data set that is represented by a $100x4$ matrix `data`, where each row is a data point (so that you have 100 data points). Suppose you get a new data point which is a vector of length 4."
   ]
  },
  {
   "cell_type": "code",
   "execution_count": 75,
   "metadata": {},
   "outputs": [
    {
     "name": "stdout",
     "output_type": "stream",
     "text": [
      "(100, 4)\n",
      "(1, 4)\n"
     ]
    }
   ],
   "source": [
    "data = np.random.normal(0, 1, [100, 4])\n",
    "print(data.shape)\n",
    "\n",
    "new_datapoint = np.random.normal(0, 1, [1,4])\n",
    "print(new_datapoint.shape)"
   ]
  },
  {
   "cell_type": "markdown",
   "metadata": {},
   "source": [
    "To use `numpy.append` to append the new datapoint to the existing data set, you must be careful."
   ]
  },
  {
   "cell_type": "code",
   "execution_count": 76,
   "metadata": {},
   "outputs": [
    {
     "name": "stdout",
     "output_type": "stream",
     "text": [
      "(404,)\n"
     ]
    }
   ],
   "source": [
    "new_data = np.append(new_datapoint, data)\n",
    "print(new_data.shape)"
   ]
  },
  {
   "cell_type": "markdown",
   "metadata": {},
   "source": [
    "As we see above, the default behavior of `np.append` was to flatten everything into a single-dimensional vector. This is similar to the behavior of `np.sum` -- unless we specify an `axis`, `np.sum` and `np.append` will just kind of ignore how your data is organize, and treat everything as a flat array.\n",
    "\n",
    "Thus, you must make sure you specify what axis we're adding to. Here, we have a new **row**, so we are adding to the row dimension (`axis = 0`):"
   ]
  },
  {
   "cell_type": "code",
   "execution_count": 77,
   "metadata": {},
   "outputs": [
    {
     "name": "stdout",
     "output_type": "stream",
     "text": [
      "(101, 4)\n"
     ]
    }
   ],
   "source": [
    "new_data = np.append(new_datapoint, data, axis = 0)\n",
    "print(new_data.shape)"
   ]
  },
  {
   "cell_type": "markdown",
   "metadata": {},
   "source": [
    "Note that the original `data` did not change, it still has 100 rows:"
   ]
  },
  {
   "cell_type": "code",
   "execution_count": 78,
   "metadata": {},
   "outputs": [
    {
     "name": "stdout",
     "output_type": "stream",
     "text": [
      "(100, 4)\n"
     ]
    }
   ],
   "source": [
    "print(data.shape)"
   ]
  },
  {
   "cell_type": "markdown",
   "metadata": {},
   "source": [
    "Here it was important that `new_datapoint.shape` was a 1x4 2D array"
   ]
  },
  {
   "cell_type": "code",
   "execution_count": 79,
   "metadata": {},
   "outputs": [
    {
     "name": "stdout",
     "output_type": "stream",
     "text": [
      "(1, 4)\n"
     ]
    }
   ],
   "source": [
    "print(new_datapoint.shape)"
   ]
  },
  {
   "cell_type": "markdown",
   "metadata": {},
   "source": [
    "For all the flexibility `numpy` tries to afford when it comes to shapes and broadcasting, this is one example where it is particuarly stubborn. In order to append one `numpy` array to another using:\n",
    "\n",
    "```\n",
    "np.append(A, B, axis = i)\n",
    "```\n",
    "\n",
    "then two conditions must be satisfied:\n",
    "\n",
    "1. `A` and `B` must both have the same dimensions (as in, must both be 1D arrays, or 2D arrays, or 3D arrays, etc.) That is ``len(A.shape) == len(B.shape)``.\n",
    "\n",
    "2. The shapes of `A` and `B` must agree for all dimensions other than dimension `i`. That is `A.shape[j] == B.shape[j]` whenever `j` is not equal to `i`.\n",
    "\n",
    "In particular, if `new_datapoint` was just a 4-long 1D array, then the above code would fail."
   ]
  },
  {
   "cell_type": "code",
   "execution_count": 80,
   "metadata": {},
   "outputs": [
    {
     "name": "stdout",
     "output_type": "stream",
     "text": [
      "(4,)\n"
     ]
    }
   ],
   "source": [
    "new_datapoint = np.random.normal(0, 1, 4)\n",
    "print(new_datapoint.shape)"
   ]
  },
  {
   "cell_type": "code",
   "execution_count": 81,
   "metadata": {},
   "outputs": [
    {
     "ename": "ValueError",
     "evalue": "all the input arrays must have same number of dimensions, but the array at index 0 has 1 dimension(s) and the array at index 1 has 2 dimension(s)",
     "output_type": "error",
     "traceback": [
      "\u001b[0;31m---------------------------------------------------------------------------\u001b[0m",
      "\u001b[0;31mValueError\u001b[0m                                Traceback (most recent call last)",
      "\u001b[0;32m<ipython-input-81-16acbf23ed00>\u001b[0m in \u001b[0;36m<module>\u001b[0;34m\u001b[0m\n\u001b[0;32m----> 1\u001b[0;31m \u001b[0mnew_data\u001b[0m \u001b[0;34m=\u001b[0m \u001b[0mnp\u001b[0m\u001b[0;34m.\u001b[0m\u001b[0mappend\u001b[0m\u001b[0;34m(\u001b[0m\u001b[0mnew_datapoint\u001b[0m\u001b[0;34m,\u001b[0m \u001b[0mdata\u001b[0m\u001b[0;34m,\u001b[0m \u001b[0maxis\u001b[0m \u001b[0;34m=\u001b[0m \u001b[0;36m0\u001b[0m\u001b[0;34m)\u001b[0m\u001b[0;34m\u001b[0m\u001b[0;34m\u001b[0m\u001b[0m\n\u001b[0m",
      "\u001b[0;32m<__array_function__ internals>\u001b[0m in \u001b[0;36mappend\u001b[0;34m(*args, **kwargs)\u001b[0m\n",
      "\u001b[0;32m/usr/local/lib/python3.8/site-packages/numpy/lib/function_base.py\u001b[0m in \u001b[0;36mappend\u001b[0;34m(arr, values, axis)\u001b[0m\n\u001b[1;32m   4669\u001b[0m         \u001b[0mvalues\u001b[0m \u001b[0;34m=\u001b[0m \u001b[0mravel\u001b[0m\u001b[0;34m(\u001b[0m\u001b[0mvalues\u001b[0m\u001b[0;34m)\u001b[0m\u001b[0;34m\u001b[0m\u001b[0;34m\u001b[0m\u001b[0m\n\u001b[1;32m   4670\u001b[0m         \u001b[0maxis\u001b[0m \u001b[0;34m=\u001b[0m \u001b[0marr\u001b[0m\u001b[0;34m.\u001b[0m\u001b[0mndim\u001b[0m\u001b[0;34m-\u001b[0m\u001b[0;36m1\u001b[0m\u001b[0;34m\u001b[0m\u001b[0;34m\u001b[0m\u001b[0m\n\u001b[0;32m-> 4671\u001b[0;31m     \u001b[0;32mreturn\u001b[0m \u001b[0mconcatenate\u001b[0m\u001b[0;34m(\u001b[0m\u001b[0;34m(\u001b[0m\u001b[0marr\u001b[0m\u001b[0;34m,\u001b[0m \u001b[0mvalues\u001b[0m\u001b[0;34m)\u001b[0m\u001b[0;34m,\u001b[0m \u001b[0maxis\u001b[0m\u001b[0;34m=\u001b[0m\u001b[0maxis\u001b[0m\u001b[0;34m)\u001b[0m\u001b[0;34m\u001b[0m\u001b[0;34m\u001b[0m\u001b[0m\n\u001b[0m\u001b[1;32m   4672\u001b[0m \u001b[0;34m\u001b[0m\u001b[0m\n\u001b[1;32m   4673\u001b[0m \u001b[0;34m\u001b[0m\u001b[0m\n",
      "\u001b[0;32m<__array_function__ internals>\u001b[0m in \u001b[0;36mconcatenate\u001b[0;34m(*args, **kwargs)\u001b[0m\n",
      "\u001b[0;31mValueError\u001b[0m: all the input arrays must have same number of dimensions, but the array at index 0 has 1 dimension(s) and the array at index 1 has 2 dimension(s)"
     ]
    }
   ],
   "source": [
    "new_data = np.append(new_datapoint, data, axis = 0)"
   ]
  },
  {
   "cell_type": "markdown",
   "metadata": {},
   "source": [
    "This tends to be a headache whenever you encounter this. To fix this, you can succintly add the required extra dimension using a special index `np.newaxis`, which actually adds a new dimension to your data"
   ]
  },
  {
   "cell_type": "code",
   "execution_count": 82,
   "metadata": {},
   "outputs": [
    {
     "name": "stdout",
     "output_type": "stream",
     "text": [
      "(4, 1)\n"
     ]
    }
   ],
   "source": [
    "# Treats new_datapoint as a 4x1 column vector.\n",
    "print(new_datapoint[:, np.newaxis].shape)"
   ]
  },
  {
   "cell_type": "code",
   "execution_count": 83,
   "metadata": {},
   "outputs": [
    {
     "name": "stdout",
     "output_type": "stream",
     "text": [
      "(1, 4)\n"
     ]
    }
   ],
   "source": [
    "# Treats new_datapoint as a 1x4 row vector.\n",
    "print(new_datapoint[np.newaxis, :].shape)"
   ]
  },
  {
   "cell_type": "markdown",
   "metadata": {},
   "source": [
    "This latter case is what we need to append the new data as a new row to the data set."
   ]
  },
  {
   "cell_type": "code",
   "execution_count": 84,
   "metadata": {},
   "outputs": [
    {
     "name": "stdout",
     "output_type": "stream",
     "text": [
      "(4,)\n",
      "(101, 4)\n"
     ]
    }
   ],
   "source": [
    "new_datapoint = np.random.normal(0, 1, 4)\n",
    "print(new_datapoint.shape)\n",
    "new_data = np.append(new_datapoint[np.newaxis,:], data, axis = 0)\n",
    "print(new_data.shape)"
   ]
  },
  {
   "cell_type": "markdown",
   "metadata": {},
   "source": [
    "The `np.concatenate` function is like `append`, but works for several arrays at a time, and not just two. Similar conditions hold for the set of arrays passed to `np.concatenate` as they did for the pair of arrays passed to `np.append`, namely the constraints on dimension and shape. To use it, you must pass a sequence of arrays as the first argument to `np.concatenate`:"
   ]
  },
  {
   "cell_type": "code",
   "execution_count": 85,
   "metadata": {},
   "outputs": [
    {
     "name": "stdout",
     "output_type": "stream",
     "text": [
      "(108, 4)\n"
     ]
    }
   ],
   "source": [
    "Z1 = np.random.normal(0, 1, [10, 4])\n",
    "Z2 = np.random.normal(0, 1, [33, 4])\n",
    "Z3 = np.random.normal(0, 1, [65, 4])\n",
    "\n",
    "# Concatenate together. Notice the first argument\n",
    "# is (Z1, Z2, Z3)\n",
    "Z = np.concatenate( (Z1, Z2, Z3), axis = 0)\n",
    "print(Z.shape)"
   ]
  },
  {
   "cell_type": "markdown",
   "metadata": {},
   "source": [
    "Of course, both `np.concatenate` and `np.append` work for columns and other dimensions as well by setting the `axis` argument appropriately.\n",
    "\n",
    "\n",
    "### Preallocation vs. concatenation\n",
    "\n",
    "While there is a time and place for concatenation/appending matrices together, try to use this sparingly, especially inside your main data-processing loop. The main reason is due to memory allocation -- concatenating existing matrices together requires requesting more memory from the operating system, and this is expensive.\n",
    "\n",
    "If you know who many rows or columns a matrix you are computing will have, then it is better to preallocate using `np.zeros` than to continuously appending new entries as you go.\n",
    "\n",
    "For example, consider the problem of calculating some summary statistics for rows of a data set. Below, we use `np.append` to continuously append the mean and standard deviation of every row of a data matrix.\n",
    "\n"
   ]
  },
  {
   "cell_type": "code",
   "execution_count": 86,
   "metadata": {},
   "outputs": [
    {
     "name": "stdout",
     "output_type": "stream",
     "text": [
      "Elapsed time =  7.74 seconds\n"
     ]
    }
   ],
   "source": [
    "all_stats = np.zeros([0, 2])\n",
    "data = np.random.uniform(0, 1, [100000, 100])\n",
    "\n",
    "tic = timeit.default_timer()\n",
    "\n",
    "for i in range(len(data)):\n",
    "    # Calculate the row's mean and standard deviation\n",
    "    row_stats = np.array([np.mean(data[i,:]), np.std(data[i,:])])\n",
    "    \n",
    "    # Append to all_statistics\n",
    "    all_stats = np.append(all_stats, row_stats[np.newaxis, :])\n",
    "    \n",
    "toc = timeit.default_timer()\n",
    "\n",
    "print(\"Elapsed time = %5.2f seconds\"%(toc - tic))\n"
   ]
  },
  {
   "cell_type": "code",
   "execution_count": 87,
   "metadata": {},
   "outputs": [
    {
     "name": "stdout",
     "output_type": "stream",
     "text": [
      "Elapsed time =  2.88 seconds\n"
     ]
    }
   ],
   "source": [
    "# pre-allocate the matrix\n",
    "all_stats = np.zeros([len(data), 2])\n",
    "\n",
    "tic = timeit.default_timer()\n",
    "for i in range(len(data)):\n",
    "    # Calculate the row's mean and standard deviation and \n",
    "    # save it directly into the pre-allocated all_stats matrix\n",
    "    all_stats[i,:] = [np.mean(data[i,:]), np.std(data[i,:])]\n",
    "\n",
    "toc = timeit.default_timer()\n",
    "\n",
    "print(\"Elapsed time = %5.2f seconds\"%(toc - tic))"
   ]
  },
  {
   "cell_type": "markdown",
   "metadata": {},
   "source": [
    "We see that it over half the time was spent allocating and appending into the `all_stats` matrix instead of any actual data procesing."
   ]
  },
  {
   "cell_type": "markdown",
   "metadata": {},
   "source": [
    "Even better is to eliminate the for-loop entirely and compute using the vectorized `np.mean` and `np.std` functions."
   ]
  },
  {
   "cell_type": "code",
   "execution_count": 88,
   "metadata": {},
   "outputs": [
    {
     "name": "stdout",
     "output_type": "stream",
     "text": [
      "Elapsed time =  0.08 seconds\n"
     ]
    }
   ],
   "source": [
    "tic = timeit.default_timer()\n",
    "mean = np.mean(data, axis = 1)\n",
    "std = np.std(data, axis = 1)\n",
    "all_stats = np.concatenate((mean[:, np.newaxis], std[:, np.newaxis]), axis = 1)\n",
    "toc = timeit.default_timer()\n",
    "\n",
    "print(\"Elapsed time = %5.2f seconds\"%(toc - tic))"
   ]
  },
  {
   "cell_type": "markdown",
   "metadata": {},
   "source": [
    "This is much, much faster, but depends on the existence of the vectorized functions."
   ]
  },
  {
   "cell_type": "markdown",
   "metadata": {},
   "source": [
    "# Resources\n",
    "---\n",
    "\n",
    "* `numpy` Quick-start: https://docs.scipy.org/doc/numpy/user/quickstart.html\n",
    "\n",
    "* `numpy` basics: https://docs.scipy.org/doc/numpy/user/basics.html"
   ]
  }
 ],
 "metadata": {
  "kernelspec": {
   "display_name": "Python 3",
   "language": "python",
   "name": "python3"
  },
  "language_info": {
   "codemirror_mode": {
    "name": "ipython",
    "version": 3
   },
   "file_extension": ".py",
   "mimetype": "text/x-python",
   "name": "python",
   "nbconvert_exporter": "python",
   "pygments_lexer": "ipython3",
   "version": "3.8.4"
  }
 },
 "nbformat": 4,
 "nbformat_minor": 4
}
